{
 "cells": [
  {
   "cell_type": "markdown",
   "metadata": {},
   "source": [
    "## Imports"
   ]
  },
  {
   "cell_type": "code",
   "execution_count": 24,
   "metadata": {},
   "outputs": [],
   "source": [
    "import cvxpy as cvx\n",
    "import numpy as np"
   ]
  },
  {
   "cell_type": "markdown",
   "metadata": {},
   "source": [
    "## Defining Variables"
   ]
  },
  {
   "cell_type": "code",
   "execution_count": 25,
   "metadata": {},
   "outputs": [],
   "source": [
    "A = np.array([[1,2],[1,-4],[5,76]])\n",
    "u1 = -2\n",
    "u2 = -3\n",
    "b = np.array([u1,u2,1])\n",
    "b = b.reshape(3,1)\n",
    "Q = np.array([[1 , -0.5] , [-0.5 , 2]])\n",
    "f = np.array([-1,0])\n"
   ]
  },
  {
   "cell_type": "markdown",
   "metadata": {},
   "source": [
    "## Defining the CVX Problem"
   ]
  },
  {
   "cell_type": "code",
   "execution_count": 26,
   "metadata": {},
   "outputs": [],
   "source": [
    "x = cvx.Variable([2,1])\n",
    "formulation = cvx.quad_form(x, Q) + x.T@f\n",
    "constraints = [A@x <= b]\n",
    "problem = cvx.Problem(cvx.Minimize(formulation), constraints)\n"
   ]
  },
  {
   "cell_type": "markdown",
   "metadata": {},
   "source": [
    "## Solving the problem"
   ]
  },
  {
   "cell_type": "code",
   "execution_count": 27,
   "metadata": {},
   "outputs": [
    {
     "name": "stdout",
     "output_type": "stream",
     "text": [
      "Min Value:\n",
      "8.222222222222221 \n",
      "\n",
      "Min Point:\n",
      "[[-2.33333333]\n",
      " [ 0.16666667]] \n",
      "\n",
      "The Lagrange Multipliers:\n",
      "[[2.74774125]\n",
      " [2.88523345]\n",
      " [0.04007173]]\n"
     ]
    }
   ],
   "source": [
    "min_value = problem.solve()\n",
    "lambdas = constraints[0].dual_value\n",
    "x_val = np.array(x.value)\n",
    "x_val = x_val.reshape(2,1)\n",
    "\n",
    "print(\"Min Value:\")\n",
    "print (min_value, \"\\n\")\n",
    "\n",
    "print(\"Min Point:\")\n",
    "print (x.value, \"\\n\")\n",
    "\n",
    "print(\"The Lagrange Multipliers:\")\n",
    "print (lambdas)\n"
   ]
  },
  {
   "cell_type": "markdown",
   "metadata": {},
   "source": [
    "## KKT Conditions"
   ]
  },
  {
   "cell_type": "code",
   "execution_count": 28,
   "metadata": {},
   "outputs": [
    {
     "name": "stdout",
     "output_type": "stream",
     "text": [
      "# KKT Cond 1 : True\n",
      "# KKT Cond 2 : True\n",
      "# KKT Cond 3 : True\n",
      "# KKT Cond 4 : True\n"
     ]
    }
   ],
   "source": [
    "# check kkt conditions\n",
    "epsilon = 0.000000000000001\n",
    "\n",
    "# KKT Cond 1\n",
    "print(\"# KKT Cond 1 : \", end=\"\")\n",
    "print((A.dot(x_val)-b).all()<epsilon)\n",
    "\n",
    "# KKT Cond 2\n",
    "print(\"# KKT Cond 2 : \", end=\"\")\n",
    "print(lambdas.all()>=0)\n",
    "\n",
    "# KKT Cond 3\n",
    "kkt3 = lambdas*(A.dot(x_val)-b)\n",
    "print(\"# KKT Cond 3 : \", end=\"\")\n",
    "print(kkt3.all()<epsilon and kkt3.all()>-epsilon)\n",
    "\n",
    "# KKT Cond 4\n",
    "print(\"# KKT Cond 4 : \", end=\"\")\n",
    "kkt4 = (2*Q.dot(x_val)) + f.T + (A.transpose().dot(constraints[0].dual_value))\n",
    "print (kkt4.all()<epsilon and kkt4.all()>-epsilon)"
   ]
  },
  {
   "cell_type": "code",
   "execution_count": 43,
   "metadata": {},
   "outputs": [
    {
     "name": "stdout",
     "output_type": "stream",
     "text": [
      "[[-0.05       -0.05        8.50387096  8.51638889]\n",
      " [-0.05        0.          8.35960928  8.51638889]\n",
      " [-0.05        0.05        8.21534761  8.51638889]\n",
      " [ 0.         -0.05        8.36648389  8.51638889]\n",
      " [ 0.          0.          8.22222222  8.22222222]\n",
      " [ 0.          0.05        8.07796055  8.22222222]\n",
      " [ 0.05       -0.05        8.22909683  8.51638889]\n",
      " [ 0.05        0.          8.08483516  8.22222222]\n",
      " [ 0.05        0.05        7.94057349  8.22222222]]\n"
     ]
    }
   ],
   "source": [
    "output = np.zeros((9, 4))\n",
    "error = np.array([-0.05, 0, 0.05])\n",
    "\n",
    "c = 0\n",
    "for i in error:\n",
    "    for j in error:\n",
    "        b_new = b+np.array(np.array([i,j,0])).T\n",
    "        p_pred = min_value - (lambdas[0]*i + lambdas[1]*j)\n",
    "        constraints = [A@x <= b_new]\n",
    "        p_exact = cvx.Problem(cvx.Minimize(formulation), constraints).solve()\n",
    "        output[c, 0] = i\n",
    "        output[c, 1] = j\n",
    "        output[c, 2] = p_pred\n",
    "        output[c, 3] = p_exact\n",
    "        c += 1\n",
    "print(output)"
   ]
  }
 ],
 "metadata": {
  "kernelspec": {
   "display_name": "Python 3.9.1 64-bit",
   "language": "python",
   "name": "python3"
  },
  "language_info": {
   "codemirror_mode": {
    "name": "ipython",
    "version": 3
   },
   "file_extension": ".py",
   "mimetype": "text/x-python",
   "name": "python",
   "nbconvert_exporter": "python",
   "pygments_lexer": "ipython3",
   "version": "3.9.1"
  },
  "orig_nbformat": 4,
  "vscode": {
   "interpreter": {
    "hash": "81794d4967e6c3204c66dcd87b604927b115b27c00565d3d43f05ba2f3a2cb0d"
   }
  }
 },
 "nbformat": 4,
 "nbformat_minor": 2
}
