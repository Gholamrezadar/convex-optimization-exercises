{
 "cells": [
  {
   "cell_type": "code",
   "execution_count": 1,
   "metadata": {},
   "outputs": [],
   "source": [
    "import cvxpy as cvx\n",
    "import numpy as np"
   ]
  },
  {
   "cell_type": "code",
   "execution_count": 81,
   "metadata": {},
   "outputs": [],
   "source": [
    "A = np.array([[1,2],[1,-4],[5,76]])\n",
    "u1 = -2\n",
    "u2 = -3\n",
    "b = np.array([u1,u2,1])\n",
    "b = b.reshape(3,1)\n",
    "Q = np.array([[1 , -0.5] , [-0.5 , 2]])\n",
    "f = np.array([-1,0])\n"
   ]
  },
  {
   "cell_type": "code",
   "execution_count": 83,
   "metadata": {},
   "outputs": [
    {
     "name": "stdout",
     "output_type": "stream",
     "text": [
      "The minimum value is: \n",
      "8.222222222222221\n",
      "the minimum point is: \n",
      "[[-2.33333333]\n",
      " [ 0.16666667]]\n",
      "The Lagrange multipliers are: \n",
      "[[2.74774125]\n",
      " [2.88523345]\n",
      " [0.04007173]]\n",
      "barresi shart aval kkt :\n",
      "True\n",
      "barresi shart dovom kkt :\n",
      "True\n",
      "barresi shart sevom kkt :\n",
      "True\n",
      "barresi shart chaharom kkt :\n",
      "True\n"
     ]
    }
   ],
   "source": [
    "# solve the problem\n",
    "x = cvx.Variable([2,1])\n",
    "problem_formoulation = cvx.quad_form(x, Q) + x.T@f\n",
    "constraints = [A@x <= b]\n",
    "min_value = cvx.Problem(cvx.Minimize(problem_formoulation), constraints).solve()\n",
    "landas = constraints[0].dual_value\n",
    "x_val = np.array(x.value)\n",
    "x_val =x_val.reshape(2,1)\n",
    "\n",
    "print(\"The minimum value is: \")\n",
    "print (min_value)\n",
    "print(\"the minimum point is: \")\n",
    "print (x.value)\n",
    "print(\"The Lagrange multipliers are: \")\n",
    "print (landas)\n",
    "\n",
    "# check kkt conditions\n",
    "very_min = 0.000000000000006\n",
    "\n",
    "# shart 1 kkt\n",
    "print(\"barresi shart aval kkt :\")\n",
    "print((A.dot(x_val)-b).all()<very_min)\n",
    "\n",
    "# shart 2 kkt\n",
    "print(\"barresi shart dovom kkt :\")\n",
    "print(landas.all()>=0)\n",
    "\n",
    "# shart 3 kkt\n",
    "kk3 = landas*(A.dot(x_val)-b)\n",
    "print(\"barresi shart sevom kkt :\")\n",
    "print(kk3.all()<very_min and kk3.all()>-very_min)\n",
    "\n",
    "# shart 4 kkt\n",
    "print(\"barresi shart chaharom kkt :\")\n",
    "kk4 = (2*Q.dot(x_val)) + f.T + (A.transpose().dot(constraints[0].dual_value))\n",
    "print (kk4.all()<very_min and kk4.all()>-very_min)"
   ]
  },
  {
   "cell_type": "code",
   "execution_count": 88,
   "metadata": {},
   "outputs": [
    {
     "name": "stderr",
     "output_type": "stream",
     "text": [
      "C:\\Users\\Scrum Master\\AppData\\Local\\Temp\\ipykernel_1904\\409832979.py:10: VisibleDeprecationWarning: Creating an ndarray from ragged nested sequences (which is a list-or-tuple of lists-or-tuples-or ndarrays with different lengths or shapes) is deprecated. If you meant to do this, you must specify 'dtype=object' when creating the ndarray.\n",
      "  output[c,:] = np.array([i, j, p_pred, p_exact])\n"
     ]
    },
    {
     "name": "stdout",
     "output_type": "stream",
     "text": [
      "[[-0.05       -0.05        8.50387096  8.51638889]\n",
      " [-0.05        0.          8.35960928  8.51638889]\n",
      " [-0.05        0.05        8.21534761  8.51638889]\n",
      " [ 0.         -0.05        8.36648389  8.51638889]\n",
      " [ 0.          0.          8.22222222  8.22222222]\n",
      " [ 0.          0.05        8.07796055  8.22222222]\n",
      " [ 0.05       -0.05        8.22909683  8.51638889]\n",
      " [ 0.05        0.          8.08483516  8.22222222]\n",
      " [ 0.05        0.05        7.94057349  8.22222222]]\n"
     ]
    }
   ],
   "source": [
    "output = np.zeros((9, 4))\n",
    "error = np.array([-0.05, 0,0.05])\n",
    "\n",
    "c = 0\n",
    "for i in error:\n",
    "    for j in error:\n",
    "        b_new = b+np.array(np.array([i,j,0])).T\n",
    "        p_pred = min_value - (landas[0]*i + landas[1]*j)\n",
    "        constraints = [A@x <= b_new]\n",
    "        p_exact = cvx.Problem(cvx.Minimize(problem_formoulation), constraints).solve()\n",
    "        output[c,:] = np.array([i, j, p_pred, p_exact])\n",
    "        c += 1\n",
    "print (output)"
   ]
  }
 ],
 "metadata": {
  "kernelspec": {
   "display_name": "Python 3.9.7 ('base')",
   "language": "python",
   "name": "python3"
  },
  "language_info": {
   "codemirror_mode": {
    "name": "ipython",
    "version": 3
   },
   "file_extension": ".py",
   "mimetype": "text/x-python",
   "name": "python",
   "nbconvert_exporter": "python",
   "pygments_lexer": "ipython3",
   "version": "3.9.7"
  },
  "orig_nbformat": 4,
  "vscode": {
   "interpreter": {
    "hash": "ad2bdc8ecc057115af97d19610ffacc2b4e99fae6737bb82f5d7fb13d2f2c186"
   }
  }
 },
 "nbformat": 4,
 "nbformat_minor": 2
}
