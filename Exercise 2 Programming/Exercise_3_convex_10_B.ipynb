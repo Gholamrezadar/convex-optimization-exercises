{
 "cells": [
  {
   "cell_type": "markdown",
   "metadata": {},
   "source": [
    "# Convex Optimization Exercise 3_10\n",
    "\n",
    "Dr. Amirmazlaghani\n",
    "\n",
    "By Gholamreza Dar 400131018\n",
    "\n",
    "Spring 2022"
   ]
  },
  {
   "cell_type": "markdown",
   "metadata": {},
   "source": [
    "## Imports"
   ]
  },
  {
   "cell_type": "code",
   "execution_count": 49,
   "metadata": {},
   "outputs": [],
   "source": [
    "import numpy as np\n",
    "import matplotlib.pyplot as plt\n",
    "import seaborn as sns; sns.set()\n",
    "sns.set_style('dark')\n",
    "\n",
    "import cvxpy as cvx"
   ]
  },
  {
   "cell_type": "markdown",
   "metadata": {},
   "source": [
    "## Hilbert and Tridiag Matrices"
   ]
  },
  {
   "cell_type": "code",
   "execution_count": 50,
   "metadata": {},
   "outputs": [],
   "source": [
    "def tridiag(a=-1, b=4, c=-1, n=5):\n",
    "    A = np.zeros((n, n))\n",
    "    for i in range(n):\n",
    "        for j in range(n):\n",
    "            if i == j-1:\n",
    "                A[i, j] = a\n",
    "            if i == j:\n",
    "                A[i, j] = b\n",
    "            if i == j+1:\n",
    "                A[i, j] = c\n",
    "    return A+0.000001\n"
   ]
  },
  {
   "cell_type": "code",
   "execution_count": 51,
   "metadata": {},
   "outputs": [],
   "source": [
    "def hilbert(n=5):\n",
    "    A = np.zeros((n, n))\n",
    "    for i in range(n):\n",
    "        for j in range(n):\n",
    "            A[i][j] = 1/(i+j+1)\n",
    "    return A+0.000001\n"
   ]
  },
  {
   "cell_type": "code",
   "execution_count": 52,
   "metadata": {},
   "outputs": [],
   "source": [
    "# np.linalg.norm(hilbert(n=40)-(hilbert(n=40)+0.000001))"
   ]
  },
  {
   "cell_type": "code",
   "execution_count": 53,
   "metadata": {},
   "outputs": [
    {
     "data": {
      "text/plain": [
       "array([[ 4.000001e+00, -9.999990e-01,  1.000000e-06,  1.000000e-06,\n",
       "         1.000000e-06],\n",
       "       [-9.999990e-01,  4.000001e+00, -9.999990e-01,  1.000000e-06,\n",
       "         1.000000e-06],\n",
       "       [ 1.000000e-06, -9.999990e-01,  4.000001e+00, -9.999990e-01,\n",
       "         1.000000e-06],\n",
       "       [ 1.000000e-06,  1.000000e-06, -9.999990e-01,  4.000001e+00,\n",
       "        -9.999990e-01],\n",
       "       [ 1.000000e-06,  1.000000e-06,  1.000000e-06, -9.999990e-01,\n",
       "         4.000001e+00]])"
      ]
     },
     "execution_count": 53,
     "metadata": {},
     "output_type": "execute_result"
    }
   ],
   "source": [
    "tridiag()"
   ]
  },
  {
   "cell_type": "code",
   "execution_count": 54,
   "metadata": {},
   "outputs": [
    {
     "data": {
      "text/plain": [
       "array([[1.000001  , 0.500001  , 0.33333433, 0.250001  , 0.200001  ],\n",
       "       [0.500001  , 0.33333433, 0.250001  , 0.200001  , 0.16666767],\n",
       "       [0.33333433, 0.250001  , 0.200001  , 0.16666767, 0.14285814],\n",
       "       [0.250001  , 0.200001  , 0.16666767, 0.14285814, 0.125001  ],\n",
       "       [0.200001  , 0.16666767, 0.14285814, 0.125001  , 0.11111211]])"
      ]
     },
     "execution_count": 54,
     "metadata": {},
     "output_type": "execute_result"
    }
   ],
   "source": [
    "hilbert()"
   ]
  },
  {
   "cell_type": "markdown",
   "metadata": {},
   "source": [
    "## Functions"
   ]
  },
  {
   "cell_type": "code",
   "execution_count": 55,
   "metadata": {},
   "outputs": [],
   "source": [
    "# 1/2 * X^T * A * X - b^T * X\n",
    "def f(x, A, b):\n",
    "    return 0.5 * x.T @ A @ x - b.T @ x"
   ]
  },
  {
   "cell_type": "code",
   "execution_count": 56,
   "metadata": {},
   "outputs": [],
   "source": [
    "def f_prim(x, A, b):\n",
    "    return A@x-b\n",
    "\n",
    "def f_prim_norm(x, A, b):\n",
    "    return np.linalg.norm(f_prim(x, A, b))"
   ]
  },
  {
   "cell_type": "code",
   "execution_count": 57,
   "metadata": {},
   "outputs": [],
   "source": [
    "def backtracking_algorithm(x, A, b, pk, rho, alpha_0, c):\n",
    "    alpha = alpha_0\n",
    "    # Check sufficient decrease condition\n",
    "    while f(x+alpha*pk, A, b) > f(x, A, b) + c * alpha * f_prim(x, A, b).T @ pk:\n",
    "        alpha *= rho\n",
    "    return alpha\n"
   ]
  },
  {
   "cell_type": "markdown",
   "metadata": {},
   "source": [
    "#### Steepest Descent"
   ]
  },
  {
   "cell_type": "code",
   "execution_count": 58,
   "metadata": {},
   "outputs": [],
   "source": [
    "def steepest_descent(x0, A, b, rho, alpha_0, c, max_iter=100):\n",
    "    x = x0\n",
    "    for _ in range(max_iter):\n",
    "        grad = f_prim(x, A, b)\n",
    "        pk = -grad\n",
    "        alpha = backtracking_algorithm(x, A, b, pk, rho, alpha_0, c)\n",
    "        x += alpha * pk\n",
    "    return x"
   ]
  },
  {
   "cell_type": "markdown",
   "metadata": {},
   "source": [
    "#### Newton's method"
   ]
  },
  {
   "cell_type": "code",
   "execution_count": 59,
   "metadata": {},
   "outputs": [],
   "source": [
    "def newtons_method(x0, A, b, rho, alpha_0, c, max_iter=100):\n",
    "    x = x0\n",
    "    for _ in range(max_iter):\n",
    "        grad = f_prim(x, A, b)\n",
    "        hess = A\n",
    "        pk = -(np.linalg.inv(hess)@grad)\n",
    "        \n",
    "        alpha = backtracking_algorithm(x, A, b, pk, rho, alpha_0, c)\n",
    "        # Update the current iterate\n",
    "        x += alpha * pk\n",
    "    return x"
   ]
  },
  {
   "cell_type": "markdown",
   "metadata": {},
   "source": [
    "#### BFGS"
   ]
  },
  {
   "cell_type": "code",
   "execution_count": 60,
   "metadata": {},
   "outputs": [],
   "source": [
    "def approximate_hessian(x0, x_prev, bk, A, b):\n",
    "    sk = (x0 - x_prev).reshape(-1, 1)\n",
    "    yk = (f_prim(x0, A, b) - f_prim(x_prev, A, b)).reshape(-1, 1)\n",
    "\n",
    "    # bk_new = bk + (a/b) - (c/d)\n",
    "    a = (yk @ yk.T)\n",
    "    b = (yk.T @ sk).flatten()[0]\n",
    "    c = (bk @ sk @ sk.T @ bk.T)\n",
    "    d = (sk.T @ bk @ sk).flatten()[0]\n",
    "\n",
    "    bk_new = bk + (a/(b+0.0001)) - (c/(d+0.0001))\n",
    "\n",
    "    return bk_new"
   ]
  },
  {
   "cell_type": "code",
   "execution_count": 61,
   "metadata": {},
   "outputs": [],
   "source": [
    "def BFGS(x0, A, b, rho, alpha_0, c, max_iter=100):\n",
    "    x = x0\n",
    "    # Initialize Hessian approx to I_n\n",
    "    x_prev = x\n",
    "    hess_approx = np.eye(A.shape[0])\n",
    "    for _ in range(max_iter):\n",
    "        grad = f_prim(x, A, b)\n",
    "        # Calculate the BFGS pk = -(hess_approx @ grad)\n",
    "        pk = -(np.linalg.inv(hess_approx)@grad)\n",
    "        # Calculate the step size\n",
    "        alpha = backtracking_algorithm(x, A, b, pk, rho, alpha_0, c)\n",
    "        # Update the Hessian approximation\n",
    "        hess_approx = approximate_hessian(x0, x_prev, hess_approx, A, b)\n",
    "        # Update the current iterate\n",
    "        x_prev = x.copy()\n",
    "        x += alpha * pk\n",
    "    return x"
   ]
  },
  {
   "cell_type": "markdown",
   "metadata": {},
   "source": [
    "## Main"
   ]
  },
  {
   "cell_type": "markdown",
   "metadata": {},
   "source": [
    "### A)"
   ]
  },
  {
   "cell_type": "markdown",
   "metadata": {},
   "source": [
    "#### Tridiag"
   ]
  },
  {
   "cell_type": "markdown",
   "metadata": {},
   "source": [
    "##### n=40"
   ]
  },
  {
   "cell_type": "markdown",
   "metadata": {},
   "source": [
    "###### Steepest Descent"
   ]
  },
  {
   "cell_type": "code",
   "execution_count": 62,
   "metadata": {},
   "outputs": [
    {
     "name": "stdout",
     "output_type": "stream",
     "text": [
      "||Ax* - b|| = 2.2502512834319497e-07\n"
     ]
    },
    {
     "data": {
      "image/png": "[encoded data removed]",
      "text/plain": [
       "<Figure size 432x288 with 1 Axes>"
      ]
     },
     "metadata": {},
     "output_type": "display_data"
    },
    {
     "name": "stdout",
     "output_type": "stream",
     "text": [
      "Losses:\n",
      "6.324555320336759\n",
      "0.7071350762053884\n",
      "0.176790493402072\n",
      "0.06250719370887119\n",
      "0.024709033329732698\n",
      "0.010336897808697823\n",
      "0.004476164487503393\n",
      "0.001983916109331727\n",
      "0.000894169202976523\n",
      "0.0004081441685185846\n",
      "0.0001881513651028393\n",
      "8.74292922727793e-05\n",
      "4.0892620436254504e-05\n",
      "1.9231181559468885e-05\n",
      "9.086164107131537e-06\n",
      "4.3100796309537596e-06\n",
      "2.051599644969648e-06\n",
      "9.795287062745565e-07\n",
      "4.6892772436924073e-07\n",
      "2.2502512834319497e-07\n"
     ]
    }
   ],
   "source": [
    "N = 40\n",
    "A1 = tridiag(-1, 4, -1, N)\n",
    "losses = []\n",
    "\n",
    "for i in range(20):\n",
    "    b = np.ones(N)\n",
    "    x_star = steepest_descent(np.zeros(N), A1, b, rho=0.5, alpha_0=1.0, c=0.1, max_iter=i)\n",
    "    f_prim_norm_x_star = f_prim_norm(x_star, A1, b)\n",
    "    losses.append(f_prim_norm_x_star)\n",
    "\n",
    "print(\"||Ax* - b|| =\", f_prim_norm_x_star)\n",
    "plt.plot(losses)\n",
    "plt.title(\"Steepest descent | N=40 | Tridiag Matrix\")\n",
    "plt.show()\n",
    "print(\"Losses:\")\n",
    "[print(losses[i]) for i in range(20)];"
   ]
  },
  {
   "cell_type": "markdown",
   "metadata": {},
   "source": [
    "###### Newton's Method"
   ]
  },
  {
   "cell_type": "code",
   "execution_count": 63,
   "metadata": {},
   "outputs": [
    {
     "name": "stdout",
     "output_type": "stream",
     "text": [
      "||Ax* - b|| = 0.0\n"
     ]
    },
    {
     "data": {
      "image/png": "[encoded data removed]",
      "text/plain": [
       "<Figure size 432x288 with 1 Axes>"
      ]
     },
     "metadata": {},
     "output_type": "display_data"
    },
    {
     "name": "stdout",
     "output_type": "stream",
     "text": [
      "Losses:\n",
      "6.324555320336759\n",
      "1.9484335006297032e-15\n",
      "6.473657049138938e-16\n",
      "3.510833468576701e-16\n",
      "1.1102230246251565e-16\n",
      "0.0\n",
      "0.0\n",
      "0.0\n",
      "0.0\n",
      "0.0\n",
      "0.0\n",
      "0.0\n",
      "0.0\n",
      "0.0\n",
      "0.0\n",
      "0.0\n",
      "0.0\n",
      "0.0\n",
      "0.0\n",
      "0.0\n"
     ]
    }
   ],
   "source": [
    "N = 40\n",
    "A1 = tridiag(-1, 4, -1, N)\n",
    "losses = []\n",
    "\n",
    "for i in range(20):\n",
    "    b = np.ones(N)\n",
    "    x_star = newtons_method(np.zeros(N), A1, b, rho=0.8, alpha_0=1.0, c=0.1, max_iter=i)\n",
    "    f_prim_norm_x_star = f_prim_norm(x_star, A1, b)\n",
    "    losses.append(f_prim_norm_x_star)\n",
    "\n",
    "print(\"||Ax* - b|| =\", f_prim_norm_x_star)\n",
    "plt.plot(losses)\n",
    "plt.title(\"Newton's method | N=40 | Tridiag Matrix\")\n",
    "plt.show()\n",
    "print(\"Losses:\")\n",
    "[print(losses[i]) for i in range(20)];"
   ]
  },
  {
   "cell_type": "markdown",
   "metadata": {},
   "source": [
    "###### BFGS"
   ]
  },
  {
   "cell_type": "code",
   "execution_count": 64,
   "metadata": {},
   "outputs": [
    {
     "name": "stdout",
     "output_type": "stream",
     "text": [
      "||Ax* - b|| = 2.3423025756762787e-05\n"
     ]
    },
    {
     "data": {
      "image/png": "[encoded data removed]",
      "text/plain": [
       "<Figure size 432x288 with 1 Axes>"
      ]
     },
     "metadata": {},
     "output_type": "display_data"
    },
    {
     "name": "stdout",
     "output_type": "stream",
     "text": [
      "Losses:\n",
      "6.324555320336759\n",
      "0.7071350762053884\n",
      "0.176790493402072\n",
      "0.06970016185970732\n",
      "0.051855401279713886\n",
      "0.020312524738973773\n",
      "0.013056107491802731\n",
      "0.005240154400764359\n",
      "0.003664190994512936\n",
      "0.0016374211229481935\n",
      "0.0012681944793565452\n",
      "0.0005997537627113348\n",
      "0.0005668947396351264\n",
      "0.000261606893734078\n",
      "0.00015552842969069984\n",
      "0.00014498946449645195\n",
      "7.316063590809422e-05\n",
      "4.4085167439401356e-05\n",
      "2.9814190487329438e-05\n",
      "2.3423025756762787e-05\n"
     ]
    }
   ],
   "source": [
    "N = 40\n",
    "A1 = tridiag(-1, 4, -1, N)\n",
    "losses = []\n",
    "\n",
    "for i in range(20):\n",
    "    b = np.ones(N)\n",
    "    x_star = BFGS(np.zeros(N), A1, b, rho=0.5, alpha_0=1.0, c=0.1, max_iter=i)\n",
    "    f_prim_norm_x_star = f_prim_norm(x_star, A1, b)\n",
    "    losses.append(f_prim_norm_x_star)\n",
    "\n",
    "print(\"||Ax* - b|| =\", f_prim_norm_x_star)\n",
    "plt.plot(losses)\n",
    "plt.title(\"BFGS | N=40 | Tridiag Matrix\")\n",
    "plt.show()\n",
    "print(\"Losses:\")\n",
    "[print(losses[i]) for i in range(20)];"
   ]
  },
  {
   "cell_type": "markdown",
   "metadata": {},
   "source": [
    "##### n=400"
   ]
  },
  {
   "cell_type": "markdown",
   "metadata": {},
   "source": [
    "###### Steepest Descent\n"
   ]
  },
  {
   "cell_type": "code",
   "execution_count": 65,
   "metadata": {},
   "outputs": [
    {
     "name": "stdout",
     "output_type": "stream",
     "text": [
      "||Ax* - b|| = 6.496174039399727e-07\n"
     ]
    },
    {
     "data": {
      "image/png": "[encoded data removed]",
      "text/plain": [
       "<Figure size 432x288 with 1 Axes>"
      ]
     },
     "metadata": {},
     "output_type": "display_data"
    },
    {
     "name": "stdout",
     "output_type": "stream",
     "text": [
      "Losses:\n",
      "20.0\n",
      "0.7074008764484313\n",
      "0.1769288797318316\n",
      "0.06258248473106792\n",
      "0.02474950374400273\n",
      "0.010358408827672078\n",
      "0.004487500893323774\n",
      "0.001989851665229411\n",
      "0.0008972612037911581\n",
      "0.00040974834553599444\n",
      "0.00018898087711481903\n",
      "8.785704532728473e-05\n",
      "4.1112684648206444e-05\n",
      "1.934417090335218e-05\n",
      "9.144076736691888e-06\n",
      "4.3397177795950215e-06\n",
      "2.066747369673987e-06\n",
      "9.872613369520805e-07\n",
      "1.3554568441125577e-06\n",
      "6.496174039399727e-07\n"
     ]
    }
   ],
   "source": [
    "N = 400\n",
    "A1 = tridiag(-1, 4, -1, N)\n",
    "losses = []\n",
    "\n",
    "for i in range(20):\n",
    "    b = np.ones(N)\n",
    "    x_star = steepest_descent(np.zeros(N), A1, b, rho=0.5, alpha_0=1.0, c=0.1, max_iter=i)\n",
    "    f_prim_norm_x_star = f_prim_norm(x_star, A1, b)\n",
    "    losses.append(f_prim_norm_x_star)\n",
    "\n",
    "print(\"||Ax* - b|| =\", f_prim_norm_x_star)\n",
    "plt.plot(losses)\n",
    "plt.title(\"Steepest descent | N=400 | Tridiag Matrix\")\n",
    "plt.show()\n",
    "print(\"Losses:\")\n",
    "[print(losses[i]) for i in range(20)];"
   ]
  },
  {
   "cell_type": "markdown",
   "metadata": {},
   "source": [
    "###### Newton's Method\n"
   ]
  },
  {
   "cell_type": "code",
   "execution_count": 66,
   "metadata": {},
   "outputs": [
    {
     "name": "stdout",
     "output_type": "stream",
     "text": [
      "||Ax* - b|| = 7.004521915144336e-14\n"
     ]
    },
    {
     "data": {
      "image/png": "[encoded data removed]",
      "text/plain": [
       "<Figure size 432x288 with 1 Axes>"
      ]
     },
     "metadata": {},
     "output_type": "display_data"
    },
    {
     "name": "stdout",
     "output_type": "stream",
     "text": [
      "Losses:\n",
      "20.0\n",
      "1.600995494923937e-13\n",
      "8.006709546397179e-14\n",
      "7.004521915144336e-14\n",
      "7.004521915144336e-14\n",
      "7.004521915144336e-14\n",
      "7.004521915144336e-14\n",
      "7.004521915144336e-14\n",
      "7.004521915144336e-14\n",
      "7.004521915144336e-14\n",
      "7.004521915144336e-14\n",
      "7.004521915144336e-14\n",
      "7.004521915144336e-14\n",
      "7.004521915144336e-14\n",
      "7.004521915144336e-14\n",
      "7.004521915144336e-14\n",
      "7.004521915144336e-14\n",
      "7.004521915144336e-14\n",
      "7.004521915144336e-14\n",
      "7.004521915144336e-14\n"
     ]
    }
   ],
   "source": [
    "N = 400\n",
    "A1 = tridiag(-1, 4, -1, N)\n",
    "losses = []\n",
    "\n",
    "for i in range(20):\n",
    "    b = np.ones(N)\n",
    "    x_star = newtons_method(np.zeros(N), A1, b, rho=0.5, alpha_0=1.0, c=0.1, max_iter=i)\n",
    "    f_prim_norm_x_star = f_prim_norm(x_star, A1, b)\n",
    "    losses.append(f_prim_norm_x_star)\n",
    "\n",
    "print(\"||Ax* - b|| =\", f_prim_norm_x_star)\n",
    "plt.plot(losses)\n",
    "plt.title(\"Newton's Method | N=400 | Tridiag Matrix\")\n",
    "plt.show()\n",
    "print(\"Losses:\")\n",
    "[print(losses[i]) for i in range(20)];"
   ]
  },
  {
   "cell_type": "markdown",
   "metadata": {},
   "source": [
    "###### BFGS\n"
   ]
  },
  {
   "cell_type": "code",
   "execution_count": 67,
   "metadata": {},
   "outputs": [
    {
     "name": "stdout",
     "output_type": "stream",
     "text": [
      "||Ax* - b|| = 2.3668890540744887e-05\n"
     ]
    },
    {
     "data": {
      "image/png": "[encoded data removed]",
      "text/plain": [
       "<Figure size 432x288 with 1 Axes>"
      ]
     },
     "metadata": {},
     "output_type": "display_data"
    },
    {
     "name": "stdout",
     "output_type": "stream",
     "text": [
      "Losses:\n",
      "20.0\n",
      "0.7074008764484313\n",
      "0.1769288797318316\n",
      "0.0635493317511867\n",
      "0.05046081909512533\n",
      "0.018433811744784288\n",
      "0.013657325234595532\n",
      "0.005387769807537259\n",
      "0.003917844739801051\n",
      "0.0016786053794839654\n",
      "0.0013188872663189182\n",
      "0.0005995469317216177\n",
      "0.0005821162541133462\n",
      "0.00026285067409195296\n",
      "0.00015440178745629074\n",
      "0.000147038466095245\n",
      "7.361212408108555e-05\n",
      "4.408306960469583e-05\n",
      "2.9774689569173663e-05\n",
      "2.3668890540744887e-05\n"
     ]
    }
   ],
   "source": [
    "N = 400\n",
    "A1 = tridiag(-1, 4, -1, N)\n",
    "losses = []\n",
    "\n",
    "for i in range(20):\n",
    "    b = np.ones(N)\n",
    "    x_star = BFGS(np.zeros(N), A1, b, rho=0.5, alpha_0=1.0, c=0.1, max_iter=i)\n",
    "    f_prim_norm_x_star = f_prim_norm(x_star, A1, b)\n",
    "    losses.append(f_prim_norm_x_star)\n",
    "\n",
    "print(\"||Ax* - b|| =\", f_prim_norm_x_star)\n",
    "plt.plot(losses)\n",
    "plt.title(\"BFGS | N=400 | Tridiag Matrix\")\n",
    "plt.show()\n",
    "print(\"Losses:\")\n",
    "[print(losses[i]) for i in range(20)];"
   ]
  },
  {
   "cell_type": "markdown",
   "metadata": {},
   "source": [
    "#### Hilbert"
   ]
  },
  {
   "cell_type": "markdown",
   "metadata": {},
   "source": [
    "##### n=40"
   ]
  },
  {
   "cell_type": "markdown",
   "metadata": {},
   "source": [
    "###### Steepest Descent\n"
   ]
  },
  {
   "cell_type": "code",
   "execution_count": 68,
   "metadata": {},
   "outputs": [
    {
     "name": "stdout",
     "output_type": "stream",
     "text": [
      "||Ax* - b|| = 0.2640639548552699\n"
     ]
    },
    {
     "data": {
      "image/png": "[encoded data removed]",
      "text/plain": [
       "<Figure size 432x288 with 1 Axes>"
      ]
     },
     "metadata": {},
     "output_type": "display_data"
    },
    {
     "name": "stdout",
     "output_type": "stream",
     "text": [
      "Losses:\n",
      "6.324555320336759\n",
      "4.609390419804039\n",
      "3.346851632945196\n",
      "2.671346771662709\n",
      "2.2562539403953945\n",
      "1.9447345528068611\n",
      "1.693557376175786\n",
      "1.4872423126123326\n",
      "1.3173410869332418\n",
      "1.177677602186789\n",
      "1.063187754729913\n",
      "0.969572569798758\n",
      "0.8931522775225238\n",
      "0.8307827003184347\n",
      "0.7797967996894604\n",
      "0.7379568010581148\n",
      "0.7034093470129923\n",
      "0.6746402987419523\n",
      "0.6504288253604282\n",
      "0.6298021623911043\n"
     ]
    }
   ],
   "source": [
    "N = 40\n",
    "A1 = hilbert(n=N)\n",
    "losses = []\n",
    "\n",
    "for i in range(100):\n",
    "    b = np.ones(N)\n",
    "    x_star = steepest_descent(np.zeros(N), A1, b, rho=0.2, alpha_0=.90, c=0.3, max_iter=i)\n",
    "    f_prim_norm_x_star = f_prim_norm(x_star, A1, b)\n",
    "    losses.append(f_prim_norm_x_star)\n",
    "\n",
    "print(\"||Ax* - b|| =\", f_prim_norm_x_star)\n",
    "plt.plot(losses)\n",
    "plt.title(\"Steepest descent | N=40 | Hilbert Matrix\")\n",
    "plt.show()\n",
    "print(\"Losses:\")\n",
    "[print(losses[i]) for i in range(20)];"
   ]
  },
  {
   "cell_type": "markdown",
   "metadata": {},
   "source": [
    "###### Newton's Method\n"
   ]
  },
  {
   "cell_type": "code",
   "execution_count": 69,
   "metadata": {},
   "outputs": [
    {
     "name": "stdout",
     "output_type": "stream",
     "text": [
      "||Ax* - b|| = 5.10845827089928\n"
     ]
    },
    {
     "data": {
      "image/png": "[encoded data removed]",
      "text/plain": [
       "<Figure size 432x288 with 1 Axes>"
      ]
     },
     "metadata": {},
     "output_type": "display_data"
    },
    {
     "name": "stdout",
     "output_type": "stream",
     "text": [
      "Losses:\n",
      "6.324555320336759\n",
      "5.108458270758938\n",
      "5.10845827089928\n",
      "5.10845827089928\n",
      "5.10845827089928\n",
      "5.10845827089928\n",
      "5.10845827089928\n",
      "5.10845827089928\n",
      "5.10845827089928\n",
      "5.10845827089928\n",
      "5.10845827089928\n",
      "5.10845827089928\n",
      "5.10845827089928\n",
      "5.10845827089928\n",
      "5.10845827089928\n",
      "5.10845827089928\n",
      "5.10845827089928\n",
      "5.10845827089928\n",
      "5.10845827089928\n",
      "5.10845827089928\n"
     ]
    }
   ],
   "source": [
    "N = 40\n",
    "A1 = hilbert(n=N)\n",
    "losses = []\n",
    "\n",
    "for i in range(40):\n",
    "    b = np.ones(N)\n",
    "    x_star = newtons_method(np.zeros(N), A1, b, rho=0.01, alpha_0=.69, c=0.2, max_iter=i)\n",
    "    f_prim_norm_x_star = f_prim_norm(x_star, A1, b)\n",
    "    losses.append(f_prim_norm_x_star)\n",
    "\n",
    "print(\"||Ax* - b|| =\", f_prim_norm_x_star)\n",
    "plt.plot(losses)\n",
    "plt.title(\"Newton's Method | N=40 | Hilbert Matrix\")\n",
    "plt.show()\n",
    "print(\"Losses:\")\n",
    "[print(losses[i]) for i in range(20)];"
   ]
  },
  {
   "cell_type": "markdown",
   "metadata": {},
   "source": [
    "###### BFGS\n"
   ]
  },
  {
   "cell_type": "code",
   "execution_count": 70,
   "metadata": {},
   "outputs": [
    {
     "name": "stdout",
     "output_type": "stream",
     "text": [
      "||Ax* - b|| = 0.10406200291414314\n"
     ]
    },
    {
     "data": {
      "image/png": "[encoded data removed]",
      "text/plain": [
       "<Figure size 432x288 with 1 Axes>"
      ]
     },
     "metadata": {},
     "output_type": "display_data"
    },
    {
     "name": "stdout",
     "output_type": "stream",
     "text": [
      "Losses:\n",
      "6.324555320336759\n",
      "5.39073850254818\n",
      "5.362585964732495\n",
      "1.3550307983475591\n",
      "1.2197954846825592\n",
      "1.2184603778240921\n",
      "0.8157073605957307\n",
      "0.7020925150636277\n",
      "0.702977901518234\n",
      "1.2436178545300796\n",
      "0.7902124723824214\n",
      "0.45934756302646323\n",
      "0.32811371337137496\n",
      "0.285469060032442\n",
      "0.28641820435391097\n",
      "0.302568247690984\n",
      "0.6929447186549013\n",
      "0.3110803513081177\n",
      "0.34614819306681016\n",
      "0.10406200291414314\n"
     ]
    }
   ],
   "source": [
    "N = 40\n",
    "A1 = hilbert(n=N)\n",
    "losses = []\n",
    "\n",
    "for i in range(20):\n",
    "    b = np.ones(N)\n",
    "    x_star = BFGS(np.zeros(N), A1, b, rho=0.5, alpha_0=1.0, c=0.1, max_iter=i)\n",
    "    f_prim_norm_x_star = f_prim_norm(x_star, A1, b)\n",
    "    losses.append(f_prim_norm_x_star)\n",
    "\n",
    "print(\"||Ax* - b|| =\", f_prim_norm_x_star)\n",
    "plt.plot(losses)\n",
    "plt.title(\"BFGS | N=40 | Hilbert Matrix\")\n",
    "plt.show()\n",
    "print(\"Losses:\")\n",
    "[print(losses[i]) for i in range(20)];"
   ]
  },
  {
   "cell_type": "markdown",
   "metadata": {},
   "source": [
    "##### n=400"
   ]
  },
  {
   "cell_type": "markdown",
   "metadata": {},
   "source": [
    "###### Steepest Descent\n"
   ]
  },
  {
   "cell_type": "code",
   "execution_count": 71,
   "metadata": {},
   "outputs": [
    {
     "name": "stdout",
     "output_type": "stream",
     "text": [
      "||Ax* - b|| = 0.49909692277372425\n"
     ]
    },
    {
     "data": {
      "image/png": "[encoded data removed]",
      "text/plain": [
       "<Figure size 432x288 with 1 Axes>"
      ]
     },
     "metadata": {},
     "output_type": "display_data"
    },
    {
     "name": "stdout",
     "output_type": "stream",
     "text": [
      "Losses:\n",
      "20.0\n",
      "14.823535592868819\n",
      "11.95994222323626\n",
      "10.197078715763062\n",
      "8.997097109278808\n",
      "5.913006263136445\n",
      "5.001570883286834\n",
      "4.6892021119779335\n",
      "4.1400266622587925\n",
      "3.9379545959307873\n",
      "3.999736647355276\n",
      "3.4352995322821713\n",
      "3.421533013117999\n",
      "3.08015845150532\n",
      "3.021295648227786\n",
      "3.083063429828538\n",
      "2.7361319452216435\n",
      "2.7303936223258134\n",
      "2.8351586691424076\n",
      "2.4851009150187764\n"
     ]
    }
   ],
   "source": [
    "N = 400\n",
    "A1 = hilbert(n=N)\n",
    "losses = []\n",
    "\n",
    "for i in range(500):\n",
    "    b = np.ones(N)\n",
    "    x_star = steepest_descent(np.zeros(N), A1, b, rho=0.2, alpha_0=1, c=0.7, max_iter=i)\n",
    "    f_prim_norm_x_star = f_prim_norm(x_star, A1, b)\n",
    "    losses.append(f_prim_norm_x_star)\n",
    "\n",
    "print(\"||Ax* - b|| =\", f_prim_norm_x_star)\n",
    "plt.plot(losses)\n",
    "plt.title(\"Steepest descent | N=400 | Hilbert Matrix\")\n",
    "plt.show()\n",
    "print(\"Losses:\")\n",
    "[print(losses[i]) for i in range(20)];"
   ]
  },
  {
   "cell_type": "markdown",
   "metadata": {},
   "source": [
    "###### Newton's Method\n"
   ]
  },
  {
   "cell_type": "code",
   "execution_count": 72,
   "metadata": {},
   "outputs": [
    {
     "name": "stdout",
     "output_type": "stream",
     "text": [
      "||Ax* - b|| = 19.806990249784967\n"
     ]
    },
    {
     "data": {
      "image/png": "[encoded data removed]",
      "text/plain": [
       "<Figure size 432x288 with 1 Axes>"
      ]
     },
     "metadata": {},
     "output_type": "display_data"
    },
    {
     "name": "stdout",
     "output_type": "stream",
     "text": [
      "Losses:\n",
      "20.0\n",
      "20.015087954802365\n",
      "19.705618019246387\n",
      "19.705160714210614\n",
      "19.70515679382924\n",
      "19.585208980860507\n",
      "19.80699082191531\n",
      "19.806990249784967\n",
      "19.806990249784967\n",
      "19.806990249784967\n",
      "19.806990249784967\n",
      "19.806990249784967\n",
      "19.806990249784967\n",
      "19.806990249784967\n",
      "19.806990249784967\n",
      "19.806990249784967\n",
      "19.806990249784967\n",
      "19.806990249784967\n",
      "19.806990249784967\n",
      "19.806990249784967\n"
     ]
    }
   ],
   "source": [
    "N = 400\n",
    "A1 = hilbert(n=N)\n",
    "losses = []\n",
    "\n",
    "for i in range(20):\n",
    "    b = np.ones(N)\n",
    "    x_star = newtons_method(np.zeros(N), A1, b, rho=0.09, alpha_0=0.0001, c=0.1, max_iter=i)\n",
    "    f_prim_norm_x_star = f_prim_norm(x_star, A1, b)\n",
    "    losses.append(f_prim_norm_x_star)\n",
    "\n",
    "print(\"||Ax* - b|| =\", f_prim_norm_x_star)\n",
    "plt.plot(losses)\n",
    "plt.title(\"Newton's Method | N=400 | Hilbert Matrix\")\n",
    "plt.show()\n",
    "print(\"Losses:\")\n",
    "[print(losses[i]) for i in range(20)];"
   ]
  },
  {
   "cell_type": "markdown",
   "metadata": {},
   "source": [
    "###### BFGS\n"
   ]
  },
  {
   "cell_type": "code",
   "execution_count": 73,
   "metadata": {},
   "outputs": [
    {
     "name": "stdout",
     "output_type": "stream",
     "text": [
      "||Ax* - b|| = 2.9463282324205635\n"
     ]
    },
    {
     "data": {
      "image/png": "[encoded data removed]",
      "text/plain": [
       "<Figure size 432x288 with 1 Axes>"
      ]
     },
     "metadata": {},
     "output_type": "display_data"
    },
    {
     "name": "stdout",
     "output_type": "stream",
     "text": [
      "Losses:\n",
      "20.0\n",
      "18.079121726674536\n",
      "6.790868781807805\n",
      "4.920431291077218\n",
      "3.9514428570165423\n",
      "3.8411387192243165\n",
      "3.6872066770688097\n",
      "3.3757047675698\n",
      "3.8119600713775146\n",
      "2.462278872733405\n",
      "2.234828651006973\n",
      "2.380941754624958\n",
      "3.1126155850648503\n",
      "2.8084903828554455\n",
      "2.945331453144843\n",
      "1.2560975544611401\n",
      "1.225581008559715\n",
      "1.2526289547147054\n",
      "2.425011036192145\n",
      "2.9463282324205635\n"
     ]
    }
   ],
   "source": [
    "N = 400\n",
    "A1 = hilbert(n=N)\n",
    "losses = []\n",
    "for i in range(20):\n",
    "    b = np.ones(N)\n",
    "    x_star = BFGS(np.zeros(N), A1, b, rho=0.5, alpha_0=1.0, c=0.1, max_iter=i)\n",
    "    f_prim_norm_x_star = f_prim_norm(x_star, A1, b)\n",
    "    losses.append(f_prim_norm_x_star)\n",
    "\n",
    "print(\"||Ax* - b|| =\", f_prim_norm_x_star)\n",
    "plt.plot(losses)\n",
    "plt.title(\"BFGS | N=400 | Hilbert Matrix\")\n",
    "plt.show()\n",
    "print(\"Losses:\")\n",
    "[print(losses[i]) for i in range(20)];"
   ]
  }
 ],
 "metadata": {
  "interpreter": {
   "hash": "3858431499dcaaf4de29b8b352749eebe871787bd67cf3dfc1982c43a6256c9d"
  },
  "kernelspec": {
   "display_name": "Python 3.10.1 64-bit",
   "language": "python",
   "name": "python3"
  },
  "language_info": {
   "codemirror_mode": {
    "name": "ipython",
    "version": 3
   },
   "file_extension": ".py",
   "mimetype": "text/x-python",
   "name": "python",
   "nbconvert_exporter": "python",
   "pygments_lexer": "ipython3",
   "version": "3.10.1"
  },
  "orig_nbformat": 4
 },
 "nbformat": 4,
 "nbformat_minor": 2
}
