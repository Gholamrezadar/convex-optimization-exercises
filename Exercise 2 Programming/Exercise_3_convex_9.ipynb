{
 "cells": [
  {
   "cell_type": "markdown",
   "metadata": {},
   "source": [
    "# Convex Optimization Exercise 3_9\n",
    "\n",
    "Dr. Amirmazlaghani\n",
    "\n",
    "By Gholamreza Dar 400131018\n",
    "\n",
    "Spring 2022"
   ]
  },
  {
   "cell_type": "markdown",
   "metadata": {},
   "source": [
    "## Imports"
   ]
  },
  {
   "cell_type": "code",
   "execution_count": 48,
   "metadata": {},
   "outputs": [],
   "source": [
    "import numpy as np\n",
    "import matplotlib.pyplot as plt\n",
    "import seaborn as sns; sns.set()\n",
    "sns.set_style('dark')\n",
    "\n",
    "import cvxpy as cvx"
   ]
  },
  {
   "cell_type": "code",
   "execution_count": 49,
   "metadata": {},
   "outputs": [],
   "source": [
    "m = 300\n",
    "n = 100\n",
    "A = np.random.rand(m,n)\n",
    "b = A@np.ones((n,1))/2\n",
    "c = -np.random.rand(n, 1)\n"
   ]
  },
  {
   "cell_type": "code",
   "execution_count": 50,
   "metadata": {},
   "outputs": [
    {
     "name": "stdout",
     "output_type": "stream",
     "text": [
      "Optimal value:  -34.58971131665731\n",
      "X_rlx solution:\n",
      " [[0.3602951]\n",
      " [1.       ]\n",
      " [1.       ]\n",
      " [0.       ]\n",
      " [0.       ]\n",
      " [1.       ]\n",
      " [1.       ]\n",
      " [1.       ]\n",
      " [0.7180642]\n",
      " [1.       ]\n",
      " [1.       ]\n",
      " [0.       ]\n",
      " [1.       ]\n",
      " [0.3550533]\n",
      " [0.       ]\n",
      " [0.       ]\n",
      " [1.       ]\n",
      " [1.       ]\n",
      " [0.       ]\n",
      " [0.       ]\n",
      " [0.5609413]\n",
      " [1.       ]\n",
      " [0.       ]\n",
      " [1.       ]\n",
      " [0.       ]\n",
      " [0.       ]\n",
      " [0.356729 ]\n",
      " [0.3179544]\n",
      " [0.       ]\n",
      " [0.3653983]\n",
      " [0.       ]\n",
      " [1.       ]\n",
      " [0.       ]\n",
      " [1.       ]\n",
      " [1.       ]\n",
      " [0.320754 ]\n",
      " [0.       ]\n",
      " [1.       ]\n",
      " [1.       ]\n",
      " [0.       ]\n",
      " [1.       ]\n",
      " [0.2698927]\n",
      " [0.       ]\n",
      " [1.       ]\n",
      " [1.       ]\n",
      " [1.       ]\n",
      " [1.       ]\n",
      " [0.       ]\n",
      " [0.       ]\n",
      " [1.       ]\n",
      " [0.       ]\n",
      " [0.       ]\n",
      " [1.       ]\n",
      " [1.       ]\n",
      " [0.       ]\n",
      " [0.       ]\n",
      " [0.       ]\n",
      " [1.       ]\n",
      " [1.       ]\n",
      " [1.       ]\n",
      " [0.6344887]\n",
      " [0.1481277]\n",
      " [0.       ]\n",
      " [0.       ]\n",
      " [1.       ]\n",
      " [0.       ]\n",
      " [0.       ]\n",
      " [0.9096809]\n",
      " [1.       ]\n",
      " [0.       ]\n",
      " [0.       ]\n",
      " [0.       ]\n",
      " [0.4902117]\n",
      " [0.       ]\n",
      " [0.780881 ]\n",
      " [0.1953693]\n",
      " [0.       ]\n",
      " [0.       ]\n",
      " [1.       ]\n",
      " [1.       ]\n",
      " [0.       ]\n",
      " [0.       ]\n",
      " [0.       ]\n",
      " [0.       ]\n",
      " [1.       ]\n",
      " [0.       ]\n",
      " [1.       ]\n",
      " [0.       ]\n",
      " [0.       ]\n",
      " [0.       ]\n",
      " [1.       ]\n",
      " [1.       ]\n",
      " [0.2306677]\n",
      " [1.       ]\n",
      " [0.       ]\n",
      " [1.       ]\n",
      " [0.       ]\n",
      " [0.7085536]\n",
      " [0.       ]\n",
      " [0.       ]]\n"
     ]
    }
   ],
   "source": [
    "# Solve equation 2\n",
    "x = cvx.Variable((n,1))\n",
    "objective = cvx.Minimize(c.T@x)\n",
    "constraints = [A@x <= b, x>=0, x<=1]\n",
    "prob = cvx.Problem(objective, constraints)\n",
    "prob.solve()\n",
    "L = prob.value\n",
    "print(\"Optimal value: \", prob.value)\n",
    "print(\"X_rlx solution:\\n\", x.value.round(7))\n",
    "x_rlx = x.value"
   ]
  },
  {
   "cell_type": "code",
   "execution_count": 51,
   "metadata": {},
   "outputs": [],
   "source": [
    "np.random.seed(1)"
   ]
  },
  {
   "cell_type": "code",
   "execution_count": 52,
   "metadata": {},
   "outputs": [],
   "source": [
    "# Generate 100 t values between 0 and 1\n",
    "N = 100\n",
    "t_values = np.linspace(0, 1, N)\n",
    "max_values = np.zeros(N)\n",
    "u_values = np.zeros(N)\n",
    "\n",
    "feasible_Us = []\n",
    "\n",
    "for i in range(N):\n",
    "    t = t_values[i]\n",
    "    \n",
    "    # Calculate x_hat based on x_rlx (x_hat is binary)\n",
    "    x_hat = (x_rlx>t).astype(float)\n",
    "\n",
    "    # Calculate upperbound\n",
    "    u = c.T@x_hat\n",
    "\n",
    "    # Calculate maximum element of AX-b (X=x_hat)\n",
    "    max_val = np.max(A@x_hat-b)\n",
    "\n",
    "    if max_val<=0:\n",
    "        feasible_Us.append(u)\n",
    "\n",
    "    # save the maximum value and the corresponding u\n",
    "    max_values[i] = max_val\n",
    "    u_values[i] = u.flatten()[0]\n"
   ]
  },
  {
   "cell_type": "code",
   "execution_count": 53,
   "metadata": {},
   "outputs": [
    {
     "data": {
      "image/png": "[encoded data removed]",
      "text/plain": [
       "<Figure size 432x288 with 1 Axes>"
      ]
     },
     "metadata": {},
     "output_type": "display_data"
    }
   ],
   "source": [
    "plt.figure().patch.set_facecolor('white')\n",
    "plt.gca().set_facecolor('ghostwhite')\n",
    "\n",
    "plt.plot(t_values[max_values>0], max_values[max_values>0], label='Infeasible', c='red')\n",
    "plt.plot(t_values[max_values<=0], max_values[max_values<=0], label='Feasible', c='springgreen')\n",
    "\n",
    "plt.title(\"Max Values\")\n",
    "plt.legend()\n",
    "plt.show()"
   ]
  },
  {
   "cell_type": "code",
   "execution_count": 59,
   "metadata": {},
   "outputs": [
    {
     "data": {
      "text/plain": [
       "-33.88368852196696"
      ]
     },
     "execution_count": 59,
     "metadata": {},
     "output_type": "execute_result"
    }
   ],
   "source": [
    "U"
   ]
  },
  {
   "cell_type": "code",
   "execution_count": 58,
   "metadata": {},
   "outputs": [
    {
     "data": {
      "text/plain": [
       "0.7060227946903481"
      ]
     },
     "execution_count": 58,
     "metadata": {},
     "output_type": "execute_result"
    }
   ],
   "source": [
    "U-L"
   ]
  }
 ],
 "metadata": {
  "interpreter": {
   "hash": "3858431499dcaaf4de29b8b352749eebe871787bd67cf3dfc1982c43a6256c9d"
  },
  "kernelspec": {
   "display_name": "Python 3.10.1 64-bit",
   "language": "python",
   "name": "python3"
  },
  "language_info": {
   "codemirror_mode": {
    "name": "ipython",
    "version": 3
   },
   "file_extension": ".py",
   "mimetype": "text/x-python",
   "name": "python",
   "nbconvert_exporter": "python",
   "pygments_lexer": "ipython3",
   "version": "3.10.1"
  },
  "orig_nbformat": 4
 },
 "nbformat": 4,
 "nbformat_minor": 2
}
