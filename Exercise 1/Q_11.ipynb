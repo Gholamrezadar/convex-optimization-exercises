{
 "cells": [
  {
   "cell_type": "code",
   "execution_count": 2,
   "metadata": {},
   "outputs": [],
   "source": [
    "import cvxpy as cp\n",
    "import numpy as np\n"
   ]
  },
  {
   "cell_type": "markdown",
   "metadata": {},
   "source": [
    "## a)"
   ]
  },
  {
   "cell_type": "code",
   "execution_count": 28,
   "metadata": {},
   "outputs": [
    {
     "name": "stdout",
     "output_type": "stream",
     "text": [
      "optimal value: 0.600\n",
      "optimal\n",
      "x1: [0.4]\n",
      "x2: [0.2]\n"
     ]
    }
   ],
   "source": [
    "x1 = cp.Variable(1)\n",
    "x2 = cp.Variable(1)\n",
    "objective = cp.Minimize(x1 + x2)\n",
    "constraints = [2*x1+x2>=1, x1+3*x2>=1]\n",
    "prob = cp.Problem(objective, constraints)\n",
    "\n",
    "print(f\"optimal value: {prob.solve():.3f}\")\n",
    "print(prob.status)\n",
    "print(\"x1:\", x1.value)\n",
    "print(\"x2:\", x2.value)\n"
   ]
  },
  {
   "cell_type": "markdown",
   "metadata": {},
   "source": [
    "## b)"
   ]
  },
  {
   "cell_type": "code",
   "execution_count": 29,
   "metadata": {},
   "outputs": [
    {
     "name": "stdout",
     "output_type": "stream",
     "text": [
      "optimal value: -inf\n",
      "unbounded\n",
      "x1: None\n",
      "x2: None\n"
     ]
    }
   ],
   "source": [
    "x1 = cp.Variable(1)\n",
    "x2 = cp.Variable(1)\n",
    "objective = cp.Minimize(-1*x1-x2)\n",
    "constraints = [2*x1+x2>=1, x1+3*x2>=1]\n",
    "prob = cp.Problem(objective, constraints)\n",
    "\n",
    "print(f\"optimal value: {prob.solve():.3f}\")\n",
    "print(prob.status)\n",
    "print(\"x1:\", x1.value)\n",
    "print(\"x2:\", x2.value)\n"
   ]
  },
  {
   "cell_type": "markdown",
   "metadata": {},
   "source": [
    "## c)"
   ]
  },
  {
   "cell_type": "code",
   "execution_count": 30,
   "metadata": {},
   "outputs": [
    {
     "name": "stdout",
     "output_type": "stream",
     "text": [
      "optimal value: -inf\n",
      "unbounded\n",
      "x1: None\n",
      "x2: None\n"
     ]
    }
   ],
   "source": [
    "x1 = cp.Variable(1)\n",
    "x2 = cp.Variable(1)\n",
    "objective = cp.Minimize(x1)\n",
    "constraints = [2*x1+x2>=1, x1+3*x2>=1]\n",
    "prob = cp.Problem(objective, constraints)\n",
    "\n",
    "print(f\"optimal value: {prob.solve():.3f}\")\n",
    "print(prob.status)\n",
    "print(\"x1:\", x1.value)\n",
    "print(\"x2:\", x2.value)\n"
   ]
  },
  {
   "cell_type": "markdown",
   "metadata": {},
   "source": [
    "## d)"
   ]
  },
  {
   "cell_type": "code",
   "execution_count": 35,
   "metadata": {},
   "outputs": [
    {
     "name": "stdout",
     "output_type": "stream",
     "text": [
      "optimal value: 0.333\n",
      "optimal\n",
      "x1: [0.33333333]\n",
      "x2: [0.33333333]\n"
     ]
    }
   ],
   "source": [
    "x1 = cp.Variable(1)\n",
    "x2 = cp.Variable(1)\n",
    "objective = cp.Minimize(cp.maximum(x1, x2))\n",
    "constraints = [2*x1+x2>=1, x1+3*x2>=1]\n",
    "prob = cp.Problem(objective, constraints)\n",
    "\n",
    "print(f\"optimal value: {prob.solve():.3f}\")\n",
    "print(prob.status)\n",
    "print(\"x1:\", x1.value)\n",
    "print(\"x2:\", x2.value)\n"
   ]
  },
  {
   "cell_type": "markdown",
   "metadata": {},
   "source": [
    "## e)"
   ]
  },
  {
   "cell_type": "code",
   "execution_count": 36,
   "metadata": {},
   "outputs": [
    {
     "name": "stdout",
     "output_type": "stream",
     "text": [
      "optimal value: 0.500\n",
      "optimal\n",
      "x1: [0.5]\n",
      "x2: [0.16666667]\n"
     ]
    }
   ],
   "source": [
    "x1 = cp.Variable(1)\n",
    "x2 = cp.Variable(1)\n",
    "objective = cp.Minimize(x1**2 + 9*x2**2)\n",
    "constraints = [2*x1+x2>=1, x1+3*x2>=1]\n",
    "prob = cp.Problem(objective, constraints)\n",
    "\n",
    "print(f\"optimal value: {prob.solve():.3f}\")\n",
    "print(prob.status)\n",
    "print(\"x1:\", x1.value)\n",
    "print(\"x2:\", x2.value)\n"
   ]
  }
 ],
 "metadata": {
  "interpreter": {
   "hash": "e1f78980d8402c2aa3bc5b076b37f3f79ff6b7409eee8995f6ccbb4aa05c332a"
  },
  "kernelspec": {
   "display_name": "Python 3.10.1 64-bit",
   "language": "python",
   "name": "python3"
  },
  "language_info": {
   "codemirror_mode": {
    "name": "ipython",
    "version": 3
   },
   "file_extension": ".py",
   "mimetype": "text/x-python",
   "name": "python",
   "nbconvert_exporter": "python",
   "pygments_lexer": "ipython3",
   "version": "3.10.1"
  },
  "orig_nbformat": 4
 },
 "nbformat": 4,
 "nbformat_minor": 2
}
